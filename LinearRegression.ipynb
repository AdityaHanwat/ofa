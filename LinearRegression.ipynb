{
  "nbformat": 4,
  "nbformat_minor": 0,
  "metadata": {
    "colab": {
      "provenance": []
    },
    "kernelspec": {
      "name": "python3",
      "display_name": "Python 3"
    },
    "language_info": {
      "name": "python"
    }
  },
  "cells": [
    {
      "cell_type": "code",
      "execution_count": null,
      "metadata": {
        "id": "rHVEP2Ljjd5d"
      },
      "outputs": [],
      "source": [
        "import pandas as pd\n",
        "import numpy as np\n",
        "import matplotlib.pyplot as plt\n",
        "from sklearn.linear_model import LinearRegression"
      ]
    },
    {
      "cell_type": "markdown",
      "source": [],
      "metadata": {
        "id": "wzns5YJhyzkV"
      }
    },
    {
      "cell_type": "code",
      "source": [
        "# Load the dataset\n",
        "df = pd.read_csv('/content/AI_Syantheticdata - Sheet1.csv')"
      ],
      "metadata": {
        "id": "l3uAGDs-j8aK"
      },
      "execution_count": null,
      "outputs": []
    },
    {
      "cell_type": "code",
      "source": [
        "df.head()"
      ],
      "metadata": {
        "colab": {
          "base_uri": "https://localhost:8080/",
          "height": 267
        },
        "id": "WjdfeRKPkCFC",
        "outputId": "fac9578b-a7e0-4716-803a-b100e4bf431e"
      },
      "execution_count": null,
      "outputs": [
        {
          "output_type": "execute_result",
          "data": {
            "text/plain": [
              "   Soil  Weather  Pest State/Region  Seed Quality  Farmer  \\\n",
              "0     1        20    A    Maharshtra             A     F1   \n",
              "1     2        21    B        Gujrat             B     F2   \n",
              "2     3        22    C      Rajestan             C     F3   \n",
              "3     1        20    A           Goa             A     F4   \n",
              "4     2        21    B            UP             B     F5   \n",
              "\n",
              "  Farmer Crop Quality   Farmer Field Size   Production  \n",
              "0                    A                   4       18634  \n",
              "1                    B                   3       16767  \n",
              "2                    C                  20       13816  \n",
              "3                    A                  20       12759  \n",
              "4                    B                  18       19863  "
            ],
            "text/html": [
              "\n",
              "  <div id=\"df-4308fd3b-e478-4233-820a-aadf46ae11a6\">\n",
              "    <div class=\"colab-df-container\">\n",
              "      <div>\n",
              "<style scoped>\n",
              "    .dataframe tbody tr th:only-of-type {\n",
              "        vertical-align: middle;\n",
              "    }\n",
              "\n",
              "    .dataframe tbody tr th {\n",
              "        vertical-align: top;\n",
              "    }\n",
              "\n",
              "    .dataframe thead th {\n",
              "        text-align: right;\n",
              "    }\n",
              "</style>\n",
              "<table border=\"1\" class=\"dataframe\">\n",
              "  <thead>\n",
              "    <tr style=\"text-align: right;\">\n",
              "      <th></th>\n",
              "      <th>Soil</th>\n",
              "      <th>Weather</th>\n",
              "      <th>Pest</th>\n",
              "      <th>State/Region</th>\n",
              "      <th>Seed Quality</th>\n",
              "      <th>Farmer</th>\n",
              "      <th>Farmer Crop Quality</th>\n",
              "      <th>Farmer Field Size</th>\n",
              "      <th>Production</th>\n",
              "    </tr>\n",
              "  </thead>\n",
              "  <tbody>\n",
              "    <tr>\n",
              "      <th>0</th>\n",
              "      <td>1</td>\n",
              "      <td>20</td>\n",
              "      <td>A</td>\n",
              "      <td>Maharshtra</td>\n",
              "      <td>A</td>\n",
              "      <td>F1</td>\n",
              "      <td>A</td>\n",
              "      <td>4</td>\n",
              "      <td>18634</td>\n",
              "    </tr>\n",
              "    <tr>\n",
              "      <th>1</th>\n",
              "      <td>2</td>\n",
              "      <td>21</td>\n",
              "      <td>B</td>\n",
              "      <td>Gujrat</td>\n",
              "      <td>B</td>\n",
              "      <td>F2</td>\n",
              "      <td>B</td>\n",
              "      <td>3</td>\n",
              "      <td>16767</td>\n",
              "    </tr>\n",
              "    <tr>\n",
              "      <th>2</th>\n",
              "      <td>3</td>\n",
              "      <td>22</td>\n",
              "      <td>C</td>\n",
              "      <td>Rajestan</td>\n",
              "      <td>C</td>\n",
              "      <td>F3</td>\n",
              "      <td>C</td>\n",
              "      <td>20</td>\n",
              "      <td>13816</td>\n",
              "    </tr>\n",
              "    <tr>\n",
              "      <th>3</th>\n",
              "      <td>1</td>\n",
              "      <td>20</td>\n",
              "      <td>A</td>\n",
              "      <td>Goa</td>\n",
              "      <td>A</td>\n",
              "      <td>F4</td>\n",
              "      <td>A</td>\n",
              "      <td>20</td>\n",
              "      <td>12759</td>\n",
              "    </tr>\n",
              "    <tr>\n",
              "      <th>4</th>\n",
              "      <td>2</td>\n",
              "      <td>21</td>\n",
              "      <td>B</td>\n",
              "      <td>UP</td>\n",
              "      <td>B</td>\n",
              "      <td>F5</td>\n",
              "      <td>B</td>\n",
              "      <td>18</td>\n",
              "      <td>19863</td>\n",
              "    </tr>\n",
              "  </tbody>\n",
              "</table>\n",
              "</div>\n",
              "      <button class=\"colab-df-convert\" onclick=\"convertToInteractive('df-4308fd3b-e478-4233-820a-aadf46ae11a6')\"\n",
              "              title=\"Convert this dataframe to an interactive table.\"\n",
              "              style=\"display:none;\">\n",
              "        \n",
              "  <svg xmlns=\"http://www.w3.org/2000/svg\" height=\"24px\"viewBox=\"0 0 24 24\"\n",
              "       width=\"24px\">\n",
              "    <path d=\"M0 0h24v24H0V0z\" fill=\"none\"/>\n",
              "    <path d=\"M18.56 5.44l.94 2.06.94-2.06 2.06-.94-2.06-.94-.94-2.06-.94 2.06-2.06.94zm-11 1L8.5 8.5l.94-2.06 2.06-.94-2.06-.94L8.5 2.5l-.94 2.06-2.06.94zm10 10l.94 2.06.94-2.06 2.06-.94-2.06-.94-.94-2.06-.94 2.06-2.06.94z\"/><path d=\"M17.41 7.96l-1.37-1.37c-.4-.4-.92-.59-1.43-.59-.52 0-1.04.2-1.43.59L10.3 9.45l-7.72 7.72c-.78.78-.78 2.05 0 2.83L4 21.41c.39.39.9.59 1.41.59.51 0 1.02-.2 1.41-.59l7.78-7.78 2.81-2.81c.8-.78.8-2.07 0-2.86zM5.41 20L4 18.59l7.72-7.72 1.47 1.35L5.41 20z\"/>\n",
              "  </svg>\n",
              "      </button>\n",
              "      \n",
              "  <style>\n",
              "    .colab-df-container {\n",
              "      display:flex;\n",
              "      flex-wrap:wrap;\n",
              "      gap: 12px;\n",
              "    }\n",
              "\n",
              "    .colab-df-convert {\n",
              "      background-color: #E8F0FE;\n",
              "      border: none;\n",
              "      border-radius: 50%;\n",
              "      cursor: pointer;\n",
              "      display: none;\n",
              "      fill: #1967D2;\n",
              "      height: 32px;\n",
              "      padding: 0 0 0 0;\n",
              "      width: 32px;\n",
              "    }\n",
              "\n",
              "    .colab-df-convert:hover {\n",
              "      background-color: #E2EBFA;\n",
              "      box-shadow: 0px 1px 2px rgba(60, 64, 67, 0.3), 0px 1px 3px 1px rgba(60, 64, 67, 0.15);\n",
              "      fill: #174EA6;\n",
              "    }\n",
              "\n",
              "    [theme=dark] .colab-df-convert {\n",
              "      background-color: #3B4455;\n",
              "      fill: #D2E3FC;\n",
              "    }\n",
              "\n",
              "    [theme=dark] .colab-df-convert:hover {\n",
              "      background-color: #434B5C;\n",
              "      box-shadow: 0px 1px 3px 1px rgba(0, 0, 0, 0.15);\n",
              "      filter: drop-shadow(0px 1px 2px rgba(0, 0, 0, 0.3));\n",
              "      fill: #FFFFFF;\n",
              "    }\n",
              "  </style>\n",
              "\n",
              "      <script>\n",
              "        const buttonEl =\n",
              "          document.querySelector('#df-4308fd3b-e478-4233-820a-aadf46ae11a6 button.colab-df-convert');\n",
              "        buttonEl.style.display =\n",
              "          google.colab.kernel.accessAllowed ? 'block' : 'none';\n",
              "\n",
              "        async function convertToInteractive(key) {\n",
              "          const element = document.querySelector('#df-4308fd3b-e478-4233-820a-aadf46ae11a6');\n",
              "          const dataTable =\n",
              "            await google.colab.kernel.invokeFunction('convertToInteractive',\n",
              "                                                     [key], {});\n",
              "          if (!dataTable) return;\n",
              "\n",
              "          const docLinkHtml = 'Like what you see? Visit the ' +\n",
              "            '<a target=\"_blank\" href=https://colab.research.google.com/notebooks/data_table.ipynb>data table notebook</a>'\n",
              "            + ' to learn more about interactive tables.';\n",
              "          element.innerHTML = '';\n",
              "          dataTable['output_type'] = 'display_data';\n",
              "          await google.colab.output.renderOutput(dataTable, element);\n",
              "          const docLink = document.createElement('div');\n",
              "          docLink.innerHTML = docLinkHtml;\n",
              "          element.appendChild(docLink);\n",
              "        }\n",
              "      </script>\n",
              "    </div>\n",
              "  </div>\n",
              "  "
            ]
          },
          "metadata": {},
          "execution_count": 14
        }
      ]
    },
    {
      "cell_type": "code",
      "source": [
        "df.info()"
      ],
      "metadata": {
        "colab": {
          "base_uri": "https://localhost:8080/"
        },
        "id": "KkKDpsamkCOp",
        "outputId": "f18714a0-af35-43d5-a484-7e253e8fe4fe"
      },
      "execution_count": null,
      "outputs": [
        {
          "output_type": "stream",
          "name": "stdout",
          "text": [
            "<class 'pandas.core.frame.DataFrame'>\n",
            "RangeIndex: 1089 entries, 0 to 1088\n",
            "Data columns (total 9 columns):\n",
            " #   Column                Non-Null Count  Dtype \n",
            "---  ------                --------------  ----- \n",
            " 0   Soil                  1089 non-null   int64 \n",
            " 1   Weather               1089 non-null   int64 \n",
            " 2   Pest                  1089 non-null   object\n",
            " 3   State/Region          1089 non-null   object\n",
            " 4   Seed Quality          1089 non-null   object\n",
            " 5   Farmer                1089 non-null   object\n",
            " 6   Farmer Crop Quality   1089 non-null   object\n",
            " 7   Farmer Field Size     1089 non-null   int64 \n",
            " 8   Production            1089 non-null   int64 \n",
            "dtypes: int64(4), object(5)\n",
            "memory usage: 76.7+ KB\n"
          ]
        }
      ]
    },
    {
      "cell_type": "code",
      "source": [
        "# Define a function to map soil quality to categories\n",
        "def soil_to_quality(x):\n",
        "    if x == 1:\n",
        "        return \"High quality\"\n",
        "    elif x == 2:\n",
        "        return \"Medium quality\"\n",
        "    else:\n",
        "        return \"Low quality\"\n",
        "\n",
        "# Apply the function to the \"Soil\" column and create a new column \"Soil Quality\"\n",
        "df[\"Soil Quality\"] = df[\"Soil\"].apply(soil_to_quality)\n",
        "df.head()"
      ],
      "metadata": {
        "colab": {
          "base_uri": "https://localhost:8080/",
          "height": 354
        },
        "id": "PzIDwvvRo1hw",
        "outputId": "6a534ccf-ae13-42e4-8102-ed1f9fbc38f6"
      },
      "execution_count": null,
      "outputs": [
        {
          "output_type": "execute_result",
          "data": {
            "text/plain": [
              "   Soil  Weather  Pest State/Region  Seed Quality  Farmer  \\\n",
              "0     1        20    A    Maharshtra             A     F1   \n",
              "1     2        21    B        Gujrat             B     F2   \n",
              "2     3        22    C      Rajestan             C     F3   \n",
              "3     1        20    A           Goa             A     F4   \n",
              "4     2        21    B            UP             B     F5   \n",
              "\n",
              "  Farmer Crop Quality   Farmer Field Size   Production    Soil Quality  \n",
              "0                    A                   4       18634    High quality  \n",
              "1                    B                   3       16767  Medium quality  \n",
              "2                    C                  20       13816     Low quality  \n",
              "3                    A                  20       12759    High quality  \n",
              "4                    B                  18       19863  Medium quality  "
            ],
            "text/html": [
              "\n",
              "  <div id=\"df-876e886f-3517-42f1-a8d7-02a62bf8a02b\">\n",
              "    <div class=\"colab-df-container\">\n",
              "      <div>\n",
              "<style scoped>\n",
              "    .dataframe tbody tr th:only-of-type {\n",
              "        vertical-align: middle;\n",
              "    }\n",
              "\n",
              "    .dataframe tbody tr th {\n",
              "        vertical-align: top;\n",
              "    }\n",
              "\n",
              "    .dataframe thead th {\n",
              "        text-align: right;\n",
              "    }\n",
              "</style>\n",
              "<table border=\"1\" class=\"dataframe\">\n",
              "  <thead>\n",
              "    <tr style=\"text-align: right;\">\n",
              "      <th></th>\n",
              "      <th>Soil</th>\n",
              "      <th>Weather</th>\n",
              "      <th>Pest</th>\n",
              "      <th>State/Region</th>\n",
              "      <th>Seed Quality</th>\n",
              "      <th>Farmer</th>\n",
              "      <th>Farmer Crop Quality</th>\n",
              "      <th>Farmer Field Size</th>\n",
              "      <th>Production</th>\n",
              "      <th>Soil Quality</th>\n",
              "    </tr>\n",
              "  </thead>\n",
              "  <tbody>\n",
              "    <tr>\n",
              "      <th>0</th>\n",
              "      <td>1</td>\n",
              "      <td>20</td>\n",
              "      <td>A</td>\n",
              "      <td>Maharshtra</td>\n",
              "      <td>A</td>\n",
              "      <td>F1</td>\n",
              "      <td>A</td>\n",
              "      <td>4</td>\n",
              "      <td>18634</td>\n",
              "      <td>High quality</td>\n",
              "    </tr>\n",
              "    <tr>\n",
              "      <th>1</th>\n",
              "      <td>2</td>\n",
              "      <td>21</td>\n",
              "      <td>B</td>\n",
              "      <td>Gujrat</td>\n",
              "      <td>B</td>\n",
              "      <td>F2</td>\n",
              "      <td>B</td>\n",
              "      <td>3</td>\n",
              "      <td>16767</td>\n",
              "      <td>Medium quality</td>\n",
              "    </tr>\n",
              "    <tr>\n",
              "      <th>2</th>\n",
              "      <td>3</td>\n",
              "      <td>22</td>\n",
              "      <td>C</td>\n",
              "      <td>Rajestan</td>\n",
              "      <td>C</td>\n",
              "      <td>F3</td>\n",
              "      <td>C</td>\n",
              "      <td>20</td>\n",
              "      <td>13816</td>\n",
              "      <td>Low quality</td>\n",
              "    </tr>\n",
              "    <tr>\n",
              "      <th>3</th>\n",
              "      <td>1</td>\n",
              "      <td>20</td>\n",
              "      <td>A</td>\n",
              "      <td>Goa</td>\n",
              "      <td>A</td>\n",
              "      <td>F4</td>\n",
              "      <td>A</td>\n",
              "      <td>20</td>\n",
              "      <td>12759</td>\n",
              "      <td>High quality</td>\n",
              "    </tr>\n",
              "    <tr>\n",
              "      <th>4</th>\n",
              "      <td>2</td>\n",
              "      <td>21</td>\n",
              "      <td>B</td>\n",
              "      <td>UP</td>\n",
              "      <td>B</td>\n",
              "      <td>F5</td>\n",
              "      <td>B</td>\n",
              "      <td>18</td>\n",
              "      <td>19863</td>\n",
              "      <td>Medium quality</td>\n",
              "    </tr>\n",
              "  </tbody>\n",
              "</table>\n",
              "</div>\n",
              "      <button class=\"colab-df-convert\" onclick=\"convertToInteractive('df-876e886f-3517-42f1-a8d7-02a62bf8a02b')\"\n",
              "              title=\"Convert this dataframe to an interactive table.\"\n",
              "              style=\"display:none;\">\n",
              "        \n",
              "  <svg xmlns=\"http://www.w3.org/2000/svg\" height=\"24px\"viewBox=\"0 0 24 24\"\n",
              "       width=\"24px\">\n",
              "    <path d=\"M0 0h24v24H0V0z\" fill=\"none\"/>\n",
              "    <path d=\"M18.56 5.44l.94 2.06.94-2.06 2.06-.94-2.06-.94-.94-2.06-.94 2.06-2.06.94zm-11 1L8.5 8.5l.94-2.06 2.06-.94-2.06-.94L8.5 2.5l-.94 2.06-2.06.94zm10 10l.94 2.06.94-2.06 2.06-.94-2.06-.94-.94-2.06-.94 2.06-2.06.94z\"/><path d=\"M17.41 7.96l-1.37-1.37c-.4-.4-.92-.59-1.43-.59-.52 0-1.04.2-1.43.59L10.3 9.45l-7.72 7.72c-.78.78-.78 2.05 0 2.83L4 21.41c.39.39.9.59 1.41.59.51 0 1.02-.2 1.41-.59l7.78-7.78 2.81-2.81c.8-.78.8-2.07 0-2.86zM5.41 20L4 18.59l7.72-7.72 1.47 1.35L5.41 20z\"/>\n",
              "  </svg>\n",
              "      </button>\n",
              "      \n",
              "  <style>\n",
              "    .colab-df-container {\n",
              "      display:flex;\n",
              "      flex-wrap:wrap;\n",
              "      gap: 12px;\n",
              "    }\n",
              "\n",
              "    .colab-df-convert {\n",
              "      background-color: #E8F0FE;\n",
              "      border: none;\n",
              "      border-radius: 50%;\n",
              "      cursor: pointer;\n",
              "      display: none;\n",
              "      fill: #1967D2;\n",
              "      height: 32px;\n",
              "      padding: 0 0 0 0;\n",
              "      width: 32px;\n",
              "    }\n",
              "\n",
              "    .colab-df-convert:hover {\n",
              "      background-color: #E2EBFA;\n",
              "      box-shadow: 0px 1px 2px rgba(60, 64, 67, 0.3), 0px 1px 3px 1px rgba(60, 64, 67, 0.15);\n",
              "      fill: #174EA6;\n",
              "    }\n",
              "\n",
              "    [theme=dark] .colab-df-convert {\n",
              "      background-color: #3B4455;\n",
              "      fill: #D2E3FC;\n",
              "    }\n",
              "\n",
              "    [theme=dark] .colab-df-convert:hover {\n",
              "      background-color: #434B5C;\n",
              "      box-shadow: 0px 1px 3px 1px rgba(0, 0, 0, 0.15);\n",
              "      filter: drop-shadow(0px 1px 2px rgba(0, 0, 0, 0.3));\n",
              "      fill: #FFFFFF;\n",
              "    }\n",
              "  </style>\n",
              "\n",
              "      <script>\n",
              "        const buttonEl =\n",
              "          document.querySelector('#df-876e886f-3517-42f1-a8d7-02a62bf8a02b button.colab-df-convert');\n",
              "        buttonEl.style.display =\n",
              "          google.colab.kernel.accessAllowed ? 'block' : 'none';\n",
              "\n",
              "        async function convertToInteractive(key) {\n",
              "          const element = document.querySelector('#df-876e886f-3517-42f1-a8d7-02a62bf8a02b');\n",
              "          const dataTable =\n",
              "            await google.colab.kernel.invokeFunction('convertToInteractive',\n",
              "                                                     [key], {});\n",
              "          if (!dataTable) return;\n",
              "\n",
              "          const docLinkHtml = 'Like what you see? Visit the ' +\n",
              "            '<a target=\"_blank\" href=https://colab.research.google.com/notebooks/data_table.ipynb>data table notebook</a>'\n",
              "            + ' to learn more about interactive tables.';\n",
              "          element.innerHTML = '';\n",
              "          dataTable['output_type'] = 'display_data';\n",
              "          await google.colab.output.renderOutput(dataTable, element);\n",
              "          const docLink = document.createElement('div');\n",
              "          docLink.innerHTML = docLinkHtml;\n",
              "          element.appendChild(docLink);\n",
              "        }\n",
              "      </script>\n",
              "    </div>\n",
              "  </div>\n",
              "  "
            ]
          },
          "metadata": {},
          "execution_count": 16
        }
      ]
    },
    {
      "cell_type": "code",
      "source": [
        "# Group the data by Soil Quality and calculate the total production for each group\n",
        "production_by_quality = df.groupby(\"Soil Quality\")[\"Production\"].sum()\n",
        "\n",
        "print(production_by_quality)"
      ],
      "metadata": {
        "colab": {
          "base_uri": "https://localhost:8080/"
        },
        "id": "c9ihWPHrpH-6",
        "outputId": "ac0d5326-fb9a-477d-8fd5-2a5853ebfef5"
      },
      "execution_count": null,
      "outputs": [
        {
          "output_type": "stream",
          "name": "stdout",
          "text": [
            "Soil Quality\n",
            "High quality      5320836\n",
            "Low quality       5533442\n",
            "Medium quality    5335729\n",
            "Name: Production, dtype: int64\n"
          ]
        }
      ]
    },
    {
      "cell_type": "code",
      "source": [
        "# Group the data by quality and calculate the sum of production for each quality\n",
        "grouped_data = df.groupby('Soil Quality')['Production'].sum().reset_index()\n",
        "\n",
        "# Pivot the data to create a table with quality categories as columns\n",
        "pivot_table = grouped_data.pivot(index='Soil Quality', columns='Production', values='Production')\n"
      ],
      "metadata": {
        "id": "SKtOItmPrjSA"
      },
      "execution_count": null,
      "outputs": []
    },
    {
      "cell_type": "code",
      "source": [
        "# Create the bar chart\n",
        "pivot_table.plot(kind='bar', stacked=True)\n",
        "\n",
        "# Set the axis labels and title\n",
        "plt.xlabel('Soil Quality')\n",
        "plt.ylabel('Production')\n",
        "plt.title('Production by Soil and Quality')\n",
        "\n",
        "# Show the plot\n",
        "plt.show()\n"
      ],
      "metadata": {
        "colab": {
          "base_uri": "https://localhost:8080/",
          "height": 565
        },
        "id": "3ePW11OAso8x",
        "outputId": "f3882d4a-7e24-45ab-be8f-0aeea80575c2"
      },
      "execution_count": null,
      "outputs": [
        {
          "output_type": "display_data",
          "data": {
            "text/plain": [
              "<Figure size 640x480 with 1 Axes>"
            ],
            "image/png": "[encoded data removed]"
          },
          "metadata": {}
        }
      ]
    },
    {
      "cell_type": "code",
      "source": [
        "# Split the dataset into train and test sets\n",
        "train_df = df.sample(frac=0.8, random_state=1)\n",
        "test_df = df.drop(train_df.index)"
      ],
      "metadata": {
        "id": "MZzEKODTtnmn"
      },
      "execution_count": null,
      "outputs": []
    },
    {
      "cell_type": "code",
      "source": [
        "# Train the model\n",
        "X_train = pd.get_dummies(train_df[\"Soil Quality\"])\n",
        "y_train = train_df[\"Production\"]\n",
        "model = LinearRegression().fit(X_train, y_train)\n"
      ],
      "metadata": {
        "id": "0ixlr-guuE23"
      },
      "execution_count": null,
      "outputs": []
    },
    {
      "cell_type": "code",
      "source": [
        "# Test the model\n",
        "X_test = pd.get_dummies(test_df[\"Soil Quality\"])\n",
        "y_test = test_df[\"Production\"]\n",
        "score = model.score(X_test, y_test)\n",
        "\n",
        "print(\"R^2 score:\", score)\n"
      ],
      "metadata": {
        "colab": {
          "base_uri": "https://localhost:8080/"
        },
        "id": "ROPc9UwguJ8C",
        "outputId": "7082577f-8130-460b-a1c7-0d1840685df4"
      },
      "execution_count": null,
      "outputs": [
        {
          "output_type": "stream",
          "name": "stdout",
          "text": [
            "R^2 score: -0.02448084078260515\n"
          ]
        }
      ]
    }
  ]
}